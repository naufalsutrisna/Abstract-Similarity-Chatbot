{
 "cells": [
  {
   "cell_type": "code",
   "execution_count": 1,
   "id": "718dcad0-6a51-4342-a758-3c092bb4b887",
   "metadata": {},
   "outputs": [],
   "source": [
    "import json\n",
    "import csv\n",
    "import os"
   ]
  },
  {
   "cell_type": "code",
   "execution_count": 2,
   "id": "8af15348-b989-4f0b-b700-88b37f97301a",
   "metadata": {},
   "outputs": [
    {
     "name": "stdout",
     "output_type": "stream",
     "text": [
      "Abstracts, titles, and authors successfully extracted and saved to /Users/naufalputra/Downloads/chatbot_pka/notebook/../data/dataset.csv\n"
     ]
    }
   ],
   "source": [
    "# File paths\n",
    "json_file = os.path.join(os.getcwd(), '..', 'data', 'arxiv-metadata-oai-snapshot.json')\n",
    "csv_file =  os.path.join(os.getcwd(), '..', 'data', 'dataset.csv')\n",
    "\n",
    "# Initialize an empty list to store the data\n",
    "data_list = []\n",
    "\n",
    "# Read the JSON file as plain text\n",
    "with open(json_file, \"r\") as file:\n",
    "    for line in file:\n",
    "        try:\n",
    "            # Parse each line into a JSON object\n",
    "            data = json.loads(line)\n",
    "            # Extract title, abstract, and authors if they exist\n",
    "            title = data.get(\"title\", \"No title available\")\n",
    "            abstract = data.get(\"abstract\", \"No abstract available\")\n",
    "            authors = data.get(\"authors\", \"No authors available\")\n",
    "            \n",
    "            # Append the extracted data to the list\n",
    "            data_list.append({\n",
    "                \"title\": title,\n",
    "                \"abstract\": abstract,\n",
    "                \"authors\": authors\n",
    "            })\n",
    "        except json.JSONDecodeError:\n",
    "            # Skip lines with decoding errors\n",
    "            continue\n",
    "\n",
    "# Save data to a CSV file\n",
    "with open(csv_file, \"w\", newline=\"\", encoding=\"utf-8\") as file:\n",
    "    writer = csv.DictWriter(file, fieldnames=[\"title\", \"abstract\", \"authors\"])\n",
    "    writer.writeheader()\n",
    "    writer.writerows(data_list)\n",
    "\n",
    "print(f\"Abstracts, titles, and authors successfully extracted and saved to {csv_file}\")"
   ]
  },
  {
   "cell_type": "code",
   "execution_count": null,
   "id": "17c43268-eff6-4c92-8a60-0cf822122e4d",
   "metadata": {},
   "outputs": [],
   "source": []
  }
 ],
 "metadata": {
  "kernelspec": {
   "display_name": "Python 3",
   "language": "python",
   "name": "python3"
  },
  "language_info": {
   "codemirror_mode": {
    "name": "ipython",
    "version": 3
   },
   "file_extension": ".py",
   "mimetype": "text/x-python",
   "name": "python",
   "nbconvert_exporter": "python",
   "pygments_lexer": "ipython3",
   "version": "3.11.2"
  }
 },
 "nbformat": 4,
 "nbformat_minor": 5
}
